{
  "nbformat": 4,
  "nbformat_minor": 0,
  "metadata": {
    "colab": {
      "name": "line inter.ipynb",
      "provenance": [],
      "collapsed_sections": [],
      "authorship_tag": "ABX9TyMwheP5WW49VcMIwepuCWP1",
      "include_colab_link": true
    },
    "kernelspec": {
      "name": "python3",
      "display_name": "Python 3"
    }
  },
  "cells": [
    {
      "cell_type": "markdown",
      "metadata": {
        "id": "view-in-github",
        "colab_type": "text"
      },
      "source": [
        "<a href=\"https://colab.research.google.com/github/honghe1994/QFFR/blob/main/line_inter.ipynb\" target=\"_parent\"><img src=\"https://colab.research.google.com/assets/colab-badge.svg\" alt=\"Open In Colab\"/></a>"
      ]
    },
    {
      "cell_type": "code",
      "metadata": {
        "colab": {
          "base_uri": "https://localhost:8080/"
        },
        "id": "f39zQlZAzGNW",
        "outputId": "805f8d1f-18e1-4db3-9009-6d76fc54d660"
      },
      "source": [
        "def is_para(A, B):\n",
        "  x1, y1 = A[0]\n",
        "  x2, y2 = A[1]\n",
        "  a1, b1 = B[0]\n",
        "  a2, b2 = B[1]\n",
        "  return (a1 - a2)*(y1 - y2) == (b1 - b2)*(x1 - x2)\n",
        "\n",
        "A = [[0,0], [1,1]]\n",
        "B = [[2, 3], [8, 9]]\n",
        "print(is_para(A, B))\n",
        "A = [[1, 2], [1, 3]]\n",
        "B = [[3, 5], [3,4]]\n",
        "print(is_para(A, B))"
      ],
      "execution_count": null,
      "outputs": [
        {
          "output_type": "stream",
          "text": [
            "True\n",
            "True\n"
          ],
          "name": "stdout"
        }
      ]
    },
    {
      "cell_type": "code",
      "metadata": {
        "colab": {
          "base_uri": "https://localhost:8080/"
        },
        "id": "o58JbtwO0JVH",
        "outputId": "50d7233f-18e0-4b85-836f-ec634ad102af"
      },
      "source": [
        "def no_inter_para(A, B):\n",
        "  x1, y1 = A[1][0] - A[0][0], A[1][1] - A[0][1]\n",
        "  x2, y2 = B[0][0] - A[0][0], B[0][1] - A[0][1]\n",
        "  x3, y3 = B[1][0] - A[0][0], B[1][1] - A[0][1]\n",
        "\n",
        "  if x1 == 0:\n",
        "    lamb = -x3/(x2-x3)\n",
        "    k = (y2-y3)/y1*lamb + y3/y1\n",
        "  elif y1 == 0:\n",
        "    lamb = -y3/(x2-x3)\n",
        "    k = (x2-x3)/x1*lamb + x3/x1\n",
        "  else:\n",
        "    lamb = -(x3/x1 - y3/y1)/((x2-x3)/x1 - (y2-y3)/y1)\n",
        "    k = (y2-y3)/y1*lamb + y3/y1\n",
        "  return k >=0 and k <= 1 and lamb >= 0 and lamb <= 1\n",
        "\n",
        "A = [[0,0], [1, 1]]\n",
        "B = [[0, 1], [1, 1.7]]\n",
        "print(no_inter_para(A, B))"
      ],
      "execution_count": null,
      "outputs": [
        {
          "output_type": "stream",
          "text": [
            "False\n"
          ],
          "name": "stdout"
        }
      ]
    },
    {
      "cell_type": "code",
      "metadata": {
        "colab": {
          "base_uri": "https://localhost:8080/"
        },
        "id": "FO3SDG253wBG",
        "outputId": "63ff516f-5529-4dab-8907-5160e2256017"
      },
      "source": [
        "def inter_para(A, B):\n",
        "  x1, y1 = A[1][0] - A[0][0], A[1][1] - A[0][1]\n",
        "  x2, y2 = B[0][0] - A[0][0], B[0][1] - A[0][1]\n",
        "  x3, y3 = B[1][0] - A[0][0], B[1][1] - A[0][1]\n",
        "  if x1*y2 == x2*y1: ##same line\n",
        "    if x1 != 0:\n",
        "      k2 = x2/x1\n",
        "      k3 = x3/x1\n",
        "    else:\n",
        "      k2 = y2/y1\n",
        "      k3 = y3/y1\n",
        "    return 0 <= k2 <=1 or 0 <= k3 <=1\n",
        "  else:\n",
        "    return False\n",
        "\n",
        "A = [[0,0], [1, 1]]\n",
        "B = [[1.2,1.2], [1.5, 1.5]]\n",
        "print(inter_para(A, B))"
      ],
      "execution_count": null,
      "outputs": [
        {
          "output_type": "stream",
          "text": [
            "False\n"
          ],
          "name": "stdout"
        }
      ]
    },
    {
      "cell_type": "code",
      "metadata": {
        "colab": {
          "base_uri": "https://localhost:8080/"
        },
        "id": "C-fDVkzS481K",
        "outputId": "6b5bdb0c-3cfd-48b0-8626-564cbccfc50b"
      },
      "source": [
        "def inter(A, B):\n",
        "  if is_para(A,B):\n",
        "    return inter_para(A,B)\n",
        "  else:\n",
        "    return no_inter_para(A,B)\n",
        "\n",
        "\n",
        "A = [[0,0], [1, 1]]\n",
        "B = [[1.2,1.2], [1.5, 1.5]]\n",
        "print(inter(A, B))"
      ],
      "execution_count": null,
      "outputs": [
        {
          "output_type": "stream",
          "text": [
            "False\n"
          ],
          "name": "stdout"
        }
      ]
    },
    {
      "cell_type": "markdown",
      "metadata": {
        "id": "wM9B8mMXzHQ8"
      },
      "source": [
        ""
      ]
    },
    {
      "cell_type": "markdown",
      "metadata": {
        "id": "oYClewkAzGwY"
      },
      "source": [
        ""
      ]
    },
    {
      "cell_type": "code",
      "metadata": {
        "colab": {
          "base_uri": "https://localhost:8080/"
        },
        "id": "l90ck4WZ4niI",
        "outputId": "919b34c6-feee-4b6d-f75c-ec637117e65e"
      },
      "source": [
        "3<= 5<=7"
      ],
      "execution_count": null,
      "outputs": [
        {
          "output_type": "execute_result",
          "data": {
            "text/plain": [
              "True"
            ]
          },
          "metadata": {
            "tags": []
          },
          "execution_count": 14
        }
      ]
    }
  ]
}